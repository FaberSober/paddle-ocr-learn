{
 "cells": [
  {
   "cell_type": "markdown",
   "metadata": {},
   "source": [
    "“/” 运算符    \n",
    "“/” 运算符是 Python 中的除法运算符。    \n",
    "\n",
    "在 Python2 中，两个整数之间的除法将返回向下舍入到最接近的整数。但是在 Python3 中，两个整数之间的除法返回一个浮点数。"
   ]
  },
  {
   "cell_type": "code",
   "execution_count": 2,
   "metadata": {},
   "outputs": [
    {
     "name": "stdout",
     "output_type": "stream",
     "text": [
      "3.0\n",
      "2.5\n"
     ]
    }
   ],
   "source": [
    "print(6 / 2)\n",
    "print(5 / 2)"
   ]
  },
  {
   "cell_type": "markdown",
   "metadata": {},
   "source": [
    "“//” 运算符    \n",
    "“//” 运算符，当在两个整数之间使用时，将得到一个整数，同时将结果向下舍入到最接近的整数。 这通常称为整除法或地板除法。与浮点数一起使用时，将获得一个浮点数。"
   ]
  },
  {
   "cell_type": "code",
   "execution_count": 3,
   "metadata": {},
   "outputs": [
    {
     "name": "stdout",
     "output_type": "stream",
     "text": [
      "2\n",
      "2.0\n"
     ]
    }
   ],
   "source": [
    "print(5 // 2)\n",
    "print(5.0 // 2)"
   ]
  },
  {
   "cell_type": "markdown",
   "metadata": {},
   "source": [
    "如果你使用 int() 对计算结果进行取整，完全可以使用 “\\” 运算符替代。"
   ]
  },
  {
   "cell_type": "code",
   "execution_count": 4,
   "metadata": {},
   "outputs": [
    {
     "data": {
      "text/plain": [
       "2"
      ]
     },
     "execution_count": 4,
     "metadata": {},
     "output_type": "execute_result"
    }
   ],
   "source": [
    "n = 5\n",
    "int(n / 2)"
   ]
  },
  {
   "cell_type": "markdown",
   "metadata": {},
   "source": [
    "但是，请注意 “\\” 运算符是向下舍入，和 int() 函数还是有区别的。"
   ]
  },
  {
   "cell_type": "code",
   "execution_count": 5,
   "metadata": {},
   "outputs": [
    {
     "name": "stdout",
     "output_type": "stream",
     "text": [
      "2\n",
      "2\n",
      "-3\n",
      "-2\n"
     ]
    }
   ],
   "source": [
    "print(5 // 2)\n",
    "print(int(5 / 2))\n",
    "print(-5 // 2)\n",
    "print(int(-5 / 2))"
   ]
  },
  {
   "cell_type": "markdown",
   "metadata": {},
   "source": [
    "“\\” 运算符的功能和 math 模块的 floor 类似。"
   ]
  },
  {
   "cell_type": "code",
   "execution_count": 6,
   "metadata": {},
   "outputs": [
    {
     "name": "stdout",
     "output_type": "stream",
     "text": [
      "-3\n",
      "-3\n"
     ]
    }
   ],
   "source": [
    "print(-5 // 2)\n",
    "\n",
    "from math import floor\n",
    "print(floor(-5 / 2))"
   ]
  }
 ],
 "metadata": {
  "kernelspec": {
   "display_name": "paddle_learn",
   "language": "python",
   "name": "python3"
  },
  "language_info": {
   "codemirror_mode": {
    "name": "ipython",
    "version": 3
   },
   "file_extension": ".py",
   "mimetype": "text/x-python",
   "name": "python",
   "nbconvert_exporter": "python",
   "pygments_lexer": "ipython3",
   "version": "3.8.18"
  }
 },
 "nbformat": 4,
 "nbformat_minor": 2
}
